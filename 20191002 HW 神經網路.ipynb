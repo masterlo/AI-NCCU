{
 "cells": [
  {
   "cell_type": "code",
   "execution_count": 1,
   "metadata": {},
   "outputs": [],
   "source": [
    "%matplotlib inline\n",
    "\n",
    "import numpy as np\n",
    "import matplotlib.pyplot as plt"
   ]
  },
  {
   "cell_type": "code",
   "execution_count": 2,
   "metadata": {},
   "outputs": [
    {
     "name": "stderr",
     "output_type": "stream",
     "text": [
      "/anaconda3/lib/python3.6/site-packages/h5py/__init__.py:36: FutureWarning: Conversion of the second argument of issubdtype from `float` to `np.floating` is deprecated. In future, it will be treated as `np.float64 == np.dtype(float).type`.\n",
      "  from ._conv import register_converters as _register_converters\n",
      "Using TensorFlow backend.\n"
     ]
    }
   ],
   "source": [
    "from keras.datasets import mnist"
   ]
  },
  {
   "cell_type": "code",
   "execution_count": 3,
   "metadata": {},
   "outputs": [],
   "source": [
    "(x_train, y_train), (x_test, y_test) = mnist.load_data()"
   ]
  },
  {
   "cell_type": "code",
   "execution_count": 4,
   "metadata": {},
   "outputs": [
    {
     "data": {
      "text/plain": [
       "60000"
      ]
     },
     "execution_count": 4,
     "metadata": {},
     "output_type": "execute_result"
    }
   ],
   "source": [
    "len(x_train)"
   ]
  },
  {
   "cell_type": "code",
   "execution_count": 5,
   "metadata": {},
   "outputs": [
    {
     "data": {
      "text/plain": [
       "60000"
      ]
     },
     "execution_count": 5,
     "metadata": {},
     "output_type": "execute_result"
    }
   ],
   "source": [
    "len(y_train)"
   ]
  },
  {
   "cell_type": "code",
   "execution_count": 6,
   "metadata": {},
   "outputs": [
    {
     "data": {
      "text/plain": [
       "array([[  0,   0,   0,   0,   0,   0,   0,   0,   0,   0,   0,   0,   0,\n",
       "          0,   0,   0,   0,   0,   0,   0,   0,   0,   0,   0,   0,   0,\n",
       "          0,   0],\n",
       "       [  0,   0,   0,   0,   0,   0,   0,   0,   0,   0,   0,   0,   0,\n",
       "          0,   0,   0,   0,   0,   0,   0,   0,   0,   0,   0,   0,   0,\n",
       "          0,   0],\n",
       "       [  0,   0,   0,   0,   0,   0,   0,   0,   0,   0,   0,   0,   0,\n",
       "          0,   0,   0,   0,   0,   0,   0,   0,   0,   0,   0,   0,   0,\n",
       "          0,   0],\n",
       "       [  0,   0,   0,   0,   0,   0,   0,   0,   0,   0,   0,   0,   0,\n",
       "          0,   0,   0,   0,   0,   0,   0,   0,   0,   0,   0,   0,   0,\n",
       "          0,   0],\n",
       "       [  0,   0,   0,   0,   0,   0,   0,   0,   0,   0,   0,   0,   0,\n",
       "          0,   0,   0,   0,   0,   0,   0,   0,   0,   0,   0,   0,   0,\n",
       "          0,   0],\n",
       "       [  0,   0,   0,   0,   0,   0,   0,   0,   0,   0,   0,   0,   0,\n",
       "          0,  36, 146, 254, 255, 251,  95,   6,   0,   0,   0,   0,   0,\n",
       "          0,   0],\n",
       "       [  0,   0,   0,   0,   0,   0,   0,   0,   0,   0,   0,   0,   3,\n",
       "         97, 234, 254, 254, 232, 254, 254,  35,   0,   0,   0,   0,   0,\n",
       "          0,   0],\n",
       "       [  0,   0,   0,   0,   0,   0,   0,   0,   0,   0,   0,  89, 140,\n",
       "        254, 254, 174,  67,  33, 200, 254, 190,   0,   0,   0,   0,   0,\n",
       "          0,   0],\n",
       "       [  0,   0,   0,   0,   0,   0,   0,   0,   0,   0, 108, 253, 254,\n",
       "        235,  51,   1,   0,   0,  12, 254, 253,  56,   0,   0,   0,   0,\n",
       "          0,   0],\n",
       "       [  0,   0,   0,   0,   0,   0,   0,   0,   0,  12, 216, 254, 244,\n",
       "         55,   0,   0,   0,   0,   6, 213, 254,  57,   0,   0,   0,   0,\n",
       "          0,   0],\n",
       "       [  0,   0,   0,   0,   0,   0,   0,   0,   0,  25, 254, 254, 132,\n",
       "          0,   0,   0,   0,   0,   0, 168, 254,  57,   0,   0,   0,   0,\n",
       "          0,   0],\n",
       "       [  0,   0,   0,   0,   0,   0,   0,   0,   0,  45, 254, 243,  34,\n",
       "          0,   0,   0,   0,   0,   0, 168, 254,  57,   0,   0,   0,   0,\n",
       "          0,   0],\n",
       "       [  0,   0,   0,   0,   0,   0,   0,   0,   0, 128, 254, 157,   0,\n",
       "          0,   0,   0,   0,   0,   0, 168, 254,  57,   0,   0,   0,   0,\n",
       "          0,   0],\n",
       "       [  0,   0,   0,   0,   0,   0,   0,   0,  19, 228, 254, 105,   0,\n",
       "          0,   0,   0,   0,   0,   7, 228, 254,  57,   0,   0,   0,   0,\n",
       "          0,   0],\n",
       "       [  0,   0,   0,   0,   0,   0,   0,   0,  58, 254, 254,  87,   0,\n",
       "          0,   0,   0,   0,   0,  10, 254, 246,  47,   0,   0,   0,   0,\n",
       "          0,   0],\n",
       "       [  0,   0,   0,   0,   0,   0,   0,   0,  58, 254, 254,   9,   0,\n",
       "          0,   0,   0,   0,   0,  10, 254, 210,   0,   0,   0,   0,   0,\n",
       "          0,   0],\n",
       "       [  0,   0,   0,   0,   0,   0,   0,   0,  58, 254, 254,   9,   0,\n",
       "          0,   0,   0,   0,   0, 105, 254,  91,   0,   0,   0,   0,   0,\n",
       "          0,   0],\n",
       "       [  0,   0,   0,   0,   0,   0,   0,   0,   5, 219, 254,   9,   0,\n",
       "          0,   0,   0,   0,  24, 230, 254,  24,   0,   0,   0,   0,   0,\n",
       "          0,   0],\n",
       "       [  0,   0,   0,   0,   0,   0,   0,   0,   0, 216, 254,   9,   0,\n",
       "          0,   0,   0,   0,  84, 254, 251,  23,   0,   0,   0,   0,   0,\n",
       "          0,   0],\n",
       "       [  0,   0,   0,   0,   0,   0,   0,   0,   0, 216, 254,  36,   0,\n",
       "          0,   0,   0,  22, 208, 251,  94,   0,   0,   0,   0,   0,   0,\n",
       "          0,   0],\n",
       "       [  0,   0,   0,   0,   0,   0,   0,   0,   0, 129, 254, 120,   0,\n",
       "          0,   0,   3, 140, 254, 229,   0,   0,   0,   0,   0,   0,   0,\n",
       "          0,   0],\n",
       "       [  0,   0,   0,   0,   0,   0,   0,   0,   0,  83, 254, 222,  17,\n",
       "          0,   0,  91, 254, 236,  53,   0,   0,   0,   0,   0,   0,   0,\n",
       "          0,   0],\n",
       "       [  0,   0,   0,   0,   0,   0,   0,   0,   0,  18, 235, 254, 134,\n",
       "         21, 119, 237, 254, 124,   0,   0,   0,   0,   0,   0,   0,   0,\n",
       "          0,   0],\n",
       "       [  0,   0,   0,   0,   0,   0,   0,   0,   0,   0,  53, 249, 254,\n",
       "        234, 252, 254, 172,   3,   0,   0,   0,   0,   0,   0,   0,   0,\n",
       "          0,   0],\n",
       "       [  0,   0,   0,   0,   0,   0,   0,   0,   0,   0,   0, 116, 237,\n",
       "        254, 254, 133,  20,   0,   0,   0,   0,   0,   0,   0,   0,   0,\n",
       "          0,   0],\n",
       "       [  0,   0,   0,   0,   0,   0,   0,   0,   0,   0,   0,   0,   0,\n",
       "          0,   0,   0,   0,   0,   0,   0,   0,   0,   0,   0,   0,   0,\n",
       "          0,   0],\n",
       "       [  0,   0,   0,   0,   0,   0,   0,   0,   0,   0,   0,   0,   0,\n",
       "          0,   0,   0,   0,   0,   0,   0,   0,   0,   0,   0,   0,   0,\n",
       "          0,   0],\n",
       "       [  0,   0,   0,   0,   0,   0,   0,   0,   0,   0,   0,   0,   0,\n",
       "          0,   0,   0,   0,   0,   0,   0,   0,   0,   0,   0,   0,   0,\n",
       "          0,   0]], dtype=uint8)"
      ]
     },
     "execution_count": 6,
     "metadata": {},
     "output_type": "execute_result"
    }
   ],
   "source": [
    "x_train[1000]"
   ]
  },
  {
   "cell_type": "code",
   "execution_count": 7,
   "metadata": {},
   "outputs": [
    {
     "data": {
      "text/plain": [
       "(60000, 28, 28)"
      ]
     },
     "execution_count": 7,
     "metadata": {},
     "output_type": "execute_result"
    }
   ],
   "source": [
    "x_train.shape"
   ]
  },
  {
   "cell_type": "code",
   "execution_count": 8,
   "metadata": {},
   "outputs": [],
   "source": [
    "x_train = x_train/255\n",
    "x_test= x_test/255"
   ]
  },
  {
   "cell_type": "code",
   "execution_count": 9,
   "metadata": {},
   "outputs": [],
   "source": [
    "#x_train = x_train.reshape(60000, 784)"
   ]
  },
  {
   "cell_type": "code",
   "execution_count": 10,
   "metadata": {},
   "outputs": [],
   "source": [
    "from keras.utils import np_utils"
   ]
  },
  {
   "cell_type": "code",
   "execution_count": 11,
   "metadata": {},
   "outputs": [],
   "source": [
    "y_train = np_utils.to_categorical(y_train, 10)\n",
    "y_test = np_utils.to_categorical(y_test, 10)"
   ]
  },
  {
   "cell_type": "code",
   "execution_count": 12,
   "metadata": {},
   "outputs": [
    {
     "data": {
      "text/plain": [
       "array([0., 0., 0., 0., 0., 0., 0., 0., 0., 1.], dtype=float32)"
      ]
     },
     "execution_count": 12,
     "metadata": {},
     "output_type": "execute_result"
    }
   ],
   "source": [
    "y_train[87]"
   ]
  },
  {
   "cell_type": "code",
   "execution_count": 15,
   "metadata": {},
   "outputs": [],
   "source": [
    "from keras.models import Sequential\n",
    "from keras.layers import Dense, Flatten   ## Flatten 自動拉平\n",
    "from keras.optimizers import SGD           ## stocastic gradient decent"
   ]
  },
  {
   "cell_type": "code",
   "execution_count": 73,
   "metadata": {},
   "outputs": [],
   "source": [
    "model = Sequential()"
   ]
  },
  {
   "cell_type": "code",
   "execution_count": 74,
   "metadata": {},
   "outputs": [],
   "source": [
    "model.add(Flatten(input_shape=(28, 28)))"
   ]
  },
  {
   "cell_type": "code",
   "execution_count": 75,
   "metadata": {},
   "outputs": [],
   "source": [
    "model.add(Dense(300, activation='relu'))"
   ]
  },
  {
   "cell_type": "code",
   "execution_count": 76,
   "metadata": {},
   "outputs": [],
   "source": [
    "model.add(Dense(400, activation='relu'))"
   ]
  },
  {
   "cell_type": "code",
   "execution_count": 77,
   "metadata": {},
   "outputs": [],
   "source": [
    "model.add(Dense(10, activation='softmax'))"
   ]
  },
  {
   "cell_type": "code",
   "execution_count": 78,
   "metadata": {},
   "outputs": [],
   "source": [
    "model.compile(loss='mse', optimizer=SGD(lr=0.08), metrics= ['accuracy'])"
   ]
  },
  {
   "cell_type": "code",
   "execution_count": 79,
   "metadata": {},
   "outputs": [
    {
     "name": "stdout",
     "output_type": "stream",
     "text": [
      "_________________________________________________________________\n",
      "Layer (type)                 Output Shape              Param #   \n",
      "=================================================================\n",
      "flatten_7 (Flatten)          (None, 784)               0         \n",
      "_________________________________________________________________\n",
      "dense_17 (Dense)             (None, 300)               235500    \n",
      "_________________________________________________________________\n",
      "dense_18 (Dense)             (None, 400)               120400    \n",
      "_________________________________________________________________\n",
      "dense_19 (Dense)             (None, 10)                4010      \n",
      "=================================================================\n",
      "Total params: 359,910\n",
      "Trainable params: 359,910\n",
      "Non-trainable params: 0\n",
      "_________________________________________________________________\n"
     ]
    }
   ],
   "source": [
    "model.summary()"
   ]
  },
  {
   "cell_type": "code",
   "execution_count": 80,
   "metadata": {},
   "outputs": [
    {
     "name": "stdout",
     "output_type": "stream",
     "text": [
      "Epoch 1/50\n",
      "60000/60000 [==============================] - 5s 83us/step - loss: 0.0813 - acc: 0.4045\n",
      "Epoch 2/50\n",
      "60000/60000 [==============================] - 4s 75us/step - loss: 0.0482 - acc: 0.7218\n",
      "Epoch 3/50\n",
      "60000/60000 [==============================] - 4s 75us/step - loss: 0.0285 - acc: 0.8467\n",
      "Epoch 4/50\n",
      "60000/60000 [==============================] - 5s 76us/step - loss: 0.0213 - acc: 0.8796\n",
      "Epoch 5/50\n",
      "60000/60000 [==============================] - 5s 77us/step - loss: 0.0182 - acc: 0.8920\n",
      "Epoch 6/50\n",
      "60000/60000 [==============================] - 5s 75us/step - loss: 0.0164 - acc: 0.9002\n",
      "Epoch 7/50\n",
      "60000/60000 [==============================] - 5s 78us/step - loss: 0.0153 - acc: 0.9056\n",
      "Epoch 8/50\n",
      "60000/60000 [==============================] - 5s 78us/step - loss: 0.0144 - acc: 0.9105\n",
      "Epoch 9/50\n",
      "60000/60000 [==============================] - 5s 83us/step - loss: 0.0137 - acc: 0.9141\n",
      "Epoch 10/50\n",
      "60000/60000 [==============================] - 5s 81us/step - loss: 0.0132 - acc: 0.9170\n",
      "Epoch 11/50\n",
      "60000/60000 [==============================] - 5s 80us/step - loss: 0.0127 - acc: 0.9199\n",
      "Epoch 12/50\n",
      "60000/60000 [==============================] - 5s 81us/step - loss: 0.0123 - acc: 0.9233\n",
      "Epoch 13/50\n",
      "60000/60000 [==============================] - 5s 82us/step - loss: 0.0119 - acc: 0.9250\n",
      "Epoch 14/50\n",
      "60000/60000 [==============================] - 5s 81us/step - loss: 0.0116 - acc: 0.9277\n",
      "Epoch 15/50\n",
      "60000/60000 [==============================] - 5s 81us/step - loss: 0.0113 - acc: 0.9297\n",
      "Epoch 16/50\n",
      "60000/60000 [==============================] - 5s 83us/step - loss: 0.0110 - acc: 0.9314\n",
      "Epoch 17/50\n",
      "60000/60000 [==============================] - 5s 85us/step - loss: 0.0107 - acc: 0.9329\n",
      "Epoch 18/50\n",
      "60000/60000 [==============================] - 5s 82us/step - loss: 0.0105 - acc: 0.9349\n",
      "Epoch 19/50\n",
      "60000/60000 [==============================] - 5s 83us/step - loss: 0.0103 - acc: 0.9362\n",
      "Epoch 20/50\n",
      "60000/60000 [==============================] - 5s 83us/step - loss: 0.0100 - acc: 0.9378\n",
      "Epoch 21/50\n",
      "60000/60000 [==============================] - 5s 84us/step - loss: 0.0098 - acc: 0.9389\n",
      "Epoch 22/50\n",
      "60000/60000 [==============================] - 5s 82us/step - loss: 0.0096 - acc: 0.9408\n",
      "Epoch 23/50\n",
      "60000/60000 [==============================] - 5s 83us/step - loss: 0.0094 - acc: 0.9419\n",
      "Epoch 24/50\n",
      "60000/60000 [==============================] - 5s 85us/step - loss: 0.0093 - acc: 0.9426\n",
      "Epoch 25/50\n",
      "60000/60000 [==============================] - 5s 85us/step - loss: 0.0091 - acc: 0.9438\n",
      "Epoch 26/50\n",
      "60000/60000 [==============================] - 5s 91us/step - loss: 0.0089 - acc: 0.9450\n",
      "Epoch 27/50\n",
      "60000/60000 [==============================] - 6s 95us/step - loss: 0.0088 - acc: 0.9463\n",
      "Epoch 28/50\n",
      "60000/60000 [==============================] - 5s 87us/step - loss: 0.0086 - acc: 0.9468\n",
      "Epoch 29/50\n",
      "60000/60000 [==============================] - 5s 85us/step - loss: 0.0085 - acc: 0.9479\n",
      "Epoch 30/50\n",
      "60000/60000 [==============================] - 5s 86us/step - loss: 0.0083 - acc: 0.9492\n",
      "Epoch 31/50\n",
      "60000/60000 [==============================] - 6s 96us/step - loss: 0.0082 - acc: 0.9497\n",
      "Epoch 32/50\n",
      "60000/60000 [==============================] - 5s 90us/step - loss: 0.0081 - acc: 0.9509\n",
      "Epoch 33/50\n",
      "60000/60000 [==============================] - 6s 93us/step - loss: 0.0079 - acc: 0.9515\n",
      "Epoch 34/50\n",
      "60000/60000 [==============================] - 5s 89us/step - loss: 0.0078 - acc: 0.9522\n",
      "Epoch 35/50\n",
      "60000/60000 [==============================] - 5s 90us/step - loss: 0.0077 - acc: 0.9530\n",
      "Epoch 36/50\n",
      "60000/60000 [==============================] - 6s 92us/step - loss: 0.0076 - acc: 0.9537\n",
      "Epoch 37/50\n",
      "60000/60000 [==============================] - 6s 93us/step - loss: 0.0075 - acc: 0.9549\n",
      "Epoch 38/50\n",
      "60000/60000 [==============================] - 5s 89us/step - loss: 0.0074 - acc: 0.9553\n",
      "Epoch 39/50\n",
      "60000/60000 [==============================] - 5s 90us/step - loss: 0.0073 - acc: 0.9557\n",
      "Epoch 40/50\n",
      "60000/60000 [==============================] - 5s 91us/step - loss: 0.0072 - acc: 0.9564\n",
      "Epoch 41/50\n",
      "60000/60000 [==============================] - 5s 91us/step - loss: 0.0071 - acc: 0.9572\n",
      "Epoch 42/50\n",
      "60000/60000 [==============================] - 5s 92us/step - loss: 0.0070 - acc: 0.9577\n",
      "Epoch 43/50\n",
      "60000/60000 [==============================] - 6s 95us/step - loss: 0.0069 - acc: 0.9583\n",
      "Epoch 44/50\n",
      "60000/60000 [==============================] - 6s 95us/step - loss: 0.0068 - acc: 0.9591\n",
      "Epoch 45/50\n",
      "60000/60000 [==============================] - 6s 97us/step - loss: 0.0067 - acc: 0.9594\n",
      "Epoch 46/50\n",
      "60000/60000 [==============================] - 6s 95us/step - loss: 0.0066 - acc: 0.9602\n",
      "Epoch 47/50\n",
      "60000/60000 [==============================] - 6s 93us/step - loss: 0.0065 - acc: 0.9605\n",
      "Epoch 48/50\n",
      "60000/60000 [==============================] - 6s 94us/step - loss: 0.0064 - acc: 0.9612\n",
      "Epoch 49/50\n",
      "60000/60000 [==============================] - 6s 95us/step - loss: 0.0063 - acc: 0.9617\n",
      "Epoch 50/50\n",
      "60000/60000 [==============================] - 6s 97us/step - loss: 0.0063 - acc: 0.9624\n"
     ]
    },
    {
     "data": {
      "text/plain": [
       "<keras.callbacks.History at 0xb65e4ecf8>"
      ]
     },
     "execution_count": 80,
     "metadata": {},
     "output_type": "execute_result"
    }
   ],
   "source": [
    "model.fit(x_train, y_train, batch_size=100, epochs=50)"
   ]
  },
  {
   "cell_type": "code",
   "execution_count": 89,
   "metadata": {},
   "outputs": [],
   "source": [
    "from ipywidgets import interact_manual"
   ]
  },
  {
   "cell_type": "code",
   "execution_count": 90,
   "metadata": {},
   "outputs": [],
   "source": [
    "predict = model.predict_classes(x_test)"
   ]
  },
  {
   "cell_type": "code",
   "execution_count": 91,
   "metadata": {},
   "outputs": [],
   "source": [
    "def test(測試編號):\n",
    "    plt.imshow(x_test[測試編號].reshape(28,28), cmap='Greys')\n",
    "    print('神經網路判斷為:', predict[測試編號])"
   ]
  },
  {
   "cell_type": "code",
   "execution_count": 92,
   "metadata": {},
   "outputs": [
    {
     "data": {
      "application/vnd.jupyter.widget-view+json": {
       "model_id": "822d7f7a5b7c4f0d916646a8c9e0f701",
       "version_major": 2,
       "version_minor": 0
      },
      "text/plain": [
       "interactive(children=(IntSlider(value=4999, description='測試編號', max=9999), Button(description='Run Interact', …"
      ]
     },
     "metadata": {},
     "output_type": "display_data"
    },
    {
     "data": {
      "text/plain": [
       "<function __main__.test(測試編號)>"
      ]
     },
     "execution_count": 92,
     "metadata": {},
     "output_type": "execute_result"
    }
   ],
   "source": [
    "interact_manual(test, 測試編號=(0,9999))"
   ]
  },
  {
   "cell_type": "code",
   "execution_count": 93,
   "metadata": {},
   "outputs": [
    {
     "name": "stdout",
     "output_type": "stream",
     "text": [
      "10000/10000 [==============================] - 0s 47us/step\n"
     ]
    }
   ],
   "source": [
    "score = model.evaluate(x_test, y_test)"
   ]
  },
  {
   "cell_type": "code",
   "execution_count": 94,
   "metadata": {},
   "outputs": [
    {
     "name": "stdout",
     "output_type": "stream",
     "text": [
      "loss: 0.006739144963838044\n",
      "正確率 0.957\n"
     ]
    }
   ],
   "source": [
    "print('loss:', score[0])\n",
    "print('正確率', score[1])"
   ]
  },
  {
   "cell_type": "code",
   "execution_count": 95,
   "metadata": {},
   "outputs": [],
   "source": [
    "model_json = model.to_json()\n",
    "open('stupid_model.json', 'w').write(model_json)\n",
    "model.save_weights('stupid_model_weights.h5')"
   ]
  },
  {
   "cell_type": "code",
   "execution_count": null,
   "metadata": {},
   "outputs": [],
   "source": []
  }
 ],
 "metadata": {
  "kernelspec": {
   "display_name": "Python 3",
   "language": "python",
   "name": "python3"
  },
  "language_info": {
   "codemirror_mode": {
    "name": "ipython",
    "version": 3
   },
   "file_extension": ".py",
   "mimetype": "text/x-python",
   "name": "python",
   "nbconvert_exporter": "python",
   "pygments_lexer": "ipython3",
   "version": "3.6.5"
  }
 },
 "nbformat": 4,
 "nbformat_minor": 2
}
