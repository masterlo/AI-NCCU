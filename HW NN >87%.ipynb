{
 "cells": [
  {
   "cell_type": "code",
   "execution_count": 1,
   "metadata": {},
   "outputs": [],
   "source": [
    "%matplotlib inline\n",
    "\n",
    "import numpy as np\n",
    "import matplotlib.pyplot as plt"
   ]
  },
  {
   "cell_type": "code",
   "execution_count": 2,
   "metadata": {},
   "outputs": [
    {
     "name": "stderr",
     "output_type": "stream",
     "text": [
      "/anaconda3/lib/python3.6/site-packages/h5py/__init__.py:36: FutureWarning: Conversion of the second argument of issubdtype from `float` to `np.floating` is deprecated. In future, it will be treated as `np.float64 == np.dtype(float).type`.\n",
      "  from ._conv import register_converters as _register_converters\n",
      "Using TensorFlow backend.\n"
     ]
    }
   ],
   "source": [
    "from keras.datasets import mnist"
   ]
  },
  {
   "cell_type": "code",
   "execution_count": 3,
   "metadata": {},
   "outputs": [],
   "source": [
    "(x_train, y_train), (x_test, y_test) = mnist.load_data()"
   ]
  },
  {
   "cell_type": "code",
   "execution_count": 4,
   "metadata": {},
   "outputs": [
    {
     "data": {
      "text/plain": [
       "(60000, 28, 28)"
      ]
     },
     "execution_count": 4,
     "metadata": {},
     "output_type": "execute_result"
    }
   ],
   "source": [
    "x_train.shape"
   ]
  },
  {
   "cell_type": "code",
   "execution_count": 5,
   "metadata": {},
   "outputs": [],
   "source": [
    "x_train = x_train/255\n",
    "x_test= x_test/255"
   ]
  },
  {
   "cell_type": "code",
   "execution_count": 6,
   "metadata": {},
   "outputs": [],
   "source": [
    "from keras.utils import np_utils"
   ]
  },
  {
   "cell_type": "code",
   "execution_count": 7,
   "metadata": {},
   "outputs": [],
   "source": [
    "y_train = np_utils.to_categorical(y_train, 10)\n",
    "y_test = np_utils.to_categorical(y_test, 10)"
   ]
  },
  {
   "cell_type": "code",
   "execution_count": 8,
   "metadata": {},
   "outputs": [
    {
     "data": {
      "text/plain": [
       "array([0., 0., 0., 0., 0., 1., 0., 0., 0., 0.], dtype=float32)"
      ]
     },
     "execution_count": 8,
     "metadata": {},
     "output_type": "execute_result"
    }
   ],
   "source": [
    "y_train[100]"
   ]
  },
  {
   "cell_type": "code",
   "execution_count": 9,
   "metadata": {},
   "outputs": [],
   "source": [
    "from keras.models import Sequential\n",
    "from keras.layers import Dense, Flatten   \n",
    "from keras.optimizers import SGD  "
   ]
  },
  {
   "cell_type": "code",
   "execution_count": 19,
   "metadata": {},
   "outputs": [],
   "source": [
    "model = Sequential()"
   ]
  },
  {
   "cell_type": "code",
   "execution_count": 20,
   "metadata": {},
   "outputs": [],
   "source": [
    "model.add(Flatten(input_shape=(28, 28)))"
   ]
  },
  {
   "cell_type": "code",
   "execution_count": 21,
   "metadata": {},
   "outputs": [],
   "source": [
    "model.add(Dense(300, activation='relu'))"
   ]
  },
  {
   "cell_type": "code",
   "execution_count": 22,
   "metadata": {},
   "outputs": [],
   "source": [
    "model.add(Dense(400, activation='relu'))"
   ]
  },
  {
   "cell_type": "code",
   "execution_count": 23,
   "metadata": {},
   "outputs": [],
   "source": [
    "model.add(Dense(10, activation='softmax'))"
   ]
  },
  {
   "cell_type": "code",
   "execution_count": 24,
   "metadata": {},
   "outputs": [],
   "source": [
    "model.compile(loss='mse', optimizer='adam', metrics= ['accuracy'])"
   ]
  },
  {
   "cell_type": "code",
   "execution_count": 25,
   "metadata": {},
   "outputs": [
    {
     "name": "stdout",
     "output_type": "stream",
     "text": [
      "_________________________________________________________________\n",
      "Layer (type)                 Output Shape              Param #   \n",
      "=================================================================\n",
      "flatten_2 (Flatten)          (None, 784)               0         \n",
      "_________________________________________________________________\n",
      "dense_5 (Dense)              (None, 300)               235500    \n",
      "_________________________________________________________________\n",
      "dense_6 (Dense)              (None, 400)               120400    \n",
      "_________________________________________________________________\n",
      "dense_7 (Dense)              (None, 10)                4010      \n",
      "=================================================================\n",
      "Total params: 359,910\n",
      "Trainable params: 359,910\n",
      "Non-trainable params: 0\n",
      "_________________________________________________________________\n"
     ]
    }
   ],
   "source": [
    "model.summary()"
   ]
  },
  {
   "cell_type": "code",
   "execution_count": null,
   "metadata": {},
   "outputs": [
    {
     "name": "stdout",
     "output_type": "stream",
     "text": [
      "Epoch 1/15\n",
      "60000/60000 [==============================] - 9s 142us/step - loss: 0.0018 - acc: 0.9891\n",
      "Epoch 2/15\n",
      "60000/60000 [==============================] - 9s 151us/step - loss: 0.0016 - acc: 0.9898\n",
      "Epoch 3/15\n",
      "60000/60000 [==============================] - 8s 141us/step - loss: 0.0015 - acc: 0.9909\n",
      "Epoch 4/15\n",
      "60000/60000 [==============================] - 8s 141us/step - loss: 0.0014 - acc: 0.9912\n",
      "Epoch 5/15\n",
      "60000/60000 [==============================] - 9s 147us/step - loss: 0.0013 - acc: 0.9921\n",
      "Epoch 6/15\n",
      "60000/60000 [==============================] - 10s 162us/step - loss: 0.0012 - acc: 0.9928\n",
      "Epoch 7/15\n",
      "60000/60000 [==============================] - 9s 148us/step - loss: 0.0012 - acc: 0.9926\n",
      "Epoch 8/15\n",
      "60000/60000 [==============================] - 9s 147us/step - loss: 0.0012 - acc: 0.9928\n",
      "Epoch 9/15\n",
      "60000/60000 [==============================] - 9s 147us/step - loss: 9.8172e-04 - acc: 0.9940\n",
      "Epoch 10/15\n",
      "60000/60000 [==============================] - 9s 147us/step - loss: 9.8575e-04 - acc: 0.9939\n",
      "Epoch 11/15\n",
      "60000/60000 [==============================] - 9s 146us/step - loss: 0.0010 - acc: 0.9937\n",
      "Epoch 12/15\n",
      "60000/60000 [==============================] - 9s 146us/step - loss: 7.6569e-04 - acc: 0.9955\n",
      "Epoch 13/15\n",
      "60000/60000 [==============================] - 9s 148us/step - loss: 8.7587e-04 - acc: 0.9949\n",
      "Epoch 14/15\n",
      "36100/60000 [=================>............] - ETA: 3s - loss: 9.2783e-04 - acc: 0.9945"
     ]
    }
   ],
   "source": [
    "model.fit(x_train, y_train, batch_size=100, epochs=15)"
   ]
  },
  {
   "cell_type": "code",
   "execution_count": null,
   "metadata": {},
   "outputs": [],
   "source": []
  }
 ],
 "metadata": {
  "kernelspec": {
   "display_name": "Python 3",
   "language": "python",
   "name": "python3"
  },
  "language_info": {
   "codemirror_mode": {
    "name": "ipython",
    "version": 3
   },
   "file_extension": ".py",
   "mimetype": "text/x-python",
   "name": "python",
   "nbconvert_exporter": "python",
   "pygments_lexer": "ipython3",
   "version": "3.6.5"
  }
 },
 "nbformat": 4,
 "nbformat_minor": 2
}
